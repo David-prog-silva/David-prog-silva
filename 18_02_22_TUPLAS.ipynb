{
  "cells": [
    {
      "cell_type": "markdown",
      "metadata": {
        "id": "view-in-github",
        "colab_type": "text"
      },
      "source": [
        "<a href=\"https://colab.research.google.com/github/David-prog-silva/David-prog-silva/blob/main/18_02_22_TUPLAS.ipynb\" target=\"_parent\"><img src=\"https://colab.research.google.com/assets/colab-badge.svg\" alt=\"Open In Colab\"/></a>"
      ]
    },
    {
      "cell_type": "markdown",
      "source": [
        "TUPLAS\n"
      ],
      "metadata": {
        "id": "MOBrIOF8FPQ1"
      }
    },
    {
      "cell_type": "code",
      "source": [
        "# ex001\n",
        "tupla = ('ana', 'jose', 'maria', 2, 2.58)\n",
        "print(f'{\"=\"*30}\\nimprimindo uma tupla\\n{\"=\"*30}\\n{tupla}')\n",
        "\n",
        "\n"
      ],
      "metadata": {
        "id": "UwpdlxtHFNkG"
      },
      "execution_count": null,
      "outputs": []
    },
    {
      "cell_type": "code",
      "source": [
        "# ex 002\n",
        "tupla = ('ana', 'jose', 'maria', 2, 2.58)\n",
        "print(f'nomes: {tupla[0], tupla[1], tupla[2]}')"
      ],
      "metadata": {
        "id": "1rYGmFyDGdPs"
      },
      "execution_count": null,
      "outputs": []
    },
    {
      "cell_type": "markdown",
      "source": [
        "CRIANDO E EXIBINDO TUPLAS\n"
      ],
      "metadata": {
        "id": "KqYliitMI8mK"
      }
    },
    {
      "cell_type": "code",
      "source": [
        "# 003\n",
        "\n",
        "tupla2 = (0, )\n",
        "print(tupla2)\n",
        "print('uma tupla com o metodo tuple', end='->')\n",
        "tupla3 = tuple('teste') #somente com string\n",
        "print(tupla3)"
      ],
      "metadata": {
        "id": "r66MFIVuHxpT"
      },
      "execution_count": null,
      "outputs": []
    },
    {
      "cell_type": "markdown",
      "source": [
        "PERCORRENDO TUPLA"
      ],
      "metadata": {
        "id": "WB2CbOo5LZj2"
      }
    },
    {
      "cell_type": "code",
      "source": [
        "tupla = ('ana', 'jose', 'maria', 2, 2.58)\n",
        "\n",
        "print(f'imprimindo do incio ate o elemento desejado: {tupla[0:3]}')"
      ],
      "metadata": {
        "colab": {
          "base_uri": "https://localhost:8080/"
        },
        "id": "bURxY-RJJI2z",
        "outputId": "ae0545cd-6bfc-4347-96c1-bdb375cb2ef0"
      },
      "execution_count": null,
      "outputs": [
        {
          "output_type": "stream",
          "name": "stdout",
          "text": [
            "imprimindo do incio ate o elemento desejado: ('ana', 'jose', 'maria')\n"
          ]
        }
      ]
    },
    {
      "cell_type": "markdown",
      "source": [
        "**ATIVIDADE 2 (18/2)**\n",
        "\n",
        "\n",
        "\n",
        "1.  Gere números aleatórios em uma tupla e exibia no final, o maior e o menor número gerado;\n",
        "2.\tLer 5 números para uma tupla e exibir: quantidade de positivos, quantidade de negativos e quantidade de zeros;\n",
        "3.\tLer para uma tupla 5 nomes e 5 notas de alunos. Exibir os dados de forma tabular, e a média final da sala.\n",
        "4.\tCriar uma tupla com 5 palavras. Mostra a palavra, as vogais da palavra e a quantidade de vogais existentes.\n",
        "\n",
        "\n",
        "\n"
      ],
      "metadata": {
        "id": "g7eQh4ykSJ9h"
      }
    },
    {
      "cell_type": "code",
      "source": [
        "# 001\n",
        "\n",
        "from random import randint\n",
        "\n",
        "menor = maior = 1\n",
        "tplValoresAleatotorios = (randint(1, 100), randint(1, 100), randint(1, 100),\n",
        "                          randint(1, 100))\n",
        "\n",
        "print(f'tupla com números aleatorios: {tplValoresAleatotorios}')\n",
        "\n",
        "for c in range(len(tplValoresAleatotorios)):\n",
        "    if tplValoresAleatotorios[c] == 0:\n",
        "        menor = tplValoresAleatotorios[0]\n",
        "    else: \n",
        "        if tplValoresAleatotorios[c] > maior:\n",
        "            maior = tplValoresAleatotorios[c]\n",
        "            menor = tplValoresAleatotorios[c - 1]\n",
        "        if tplValoresAleatotorios[c] < menor:\n",
        "            menor = tplValoresAleatotorios[c]\n",
        "            maior = tplValoresAleatotorios[c + 1]       \n",
        "\n",
        "print(f'maior -> {maior} menor -> {menor}')"
      ],
      "metadata": {
        "id": "rsL4fWO8Lr5l"
      },
      "execution_count": null,
      "outputs": []
    },
    {
      "cell_type": "code",
      "source": [
        "# ex002\n",
        "\n",
        "from random import randint\n",
        "\n",
        "tplValoresAleatotorios = (randint(-100, 100), randint(-100, 100), randint(-100, 100),\n",
        "                          randint(-100, 100), randint(-100, 100))\n",
        "\n",
        "\n",
        "for c in range(len(tplValoresAleatotorios)):\n",
        "    if tplValoresAleatotorios[c] > 0:\n",
        "        print(f'{tplValoresAleatotorios[c]} : positivo', end = ' || ')\n",
        "    if tplValoresAleatotorios[c] <= 0:\n",
        "        print(f'{tplValoresAleatotorios[c]} : negativo', end = ' || ')\n",
        "    if tplValoresAleatotorios[c] == 0:\n",
        "        print(f'posição valor 0 : {tplValoresAleatotorios[c]}')"
      ],
      "metadata": {
        "id": "pzXfXjytUiuy"
      },
      "execution_count": null,
      "outputs": []
    },
    {
      "cell_type": "code",
      "source": [
        "# 003\n",
        "\n",
        "from random import randint\n",
        "\n",
        "def mediaNotas(n1, n2, n3, n4, n5):\n",
        "    media = (n1 + n2 + n3 + n4 + n5) / 5\n",
        "    return media\n",
        "\n",
        "tplNomes = ('Davi', 'Silva', 'Santos', 'Junior', 'Ninguém')\n",
        "\n",
        "#nt -> nota doas alunos\n",
        "ntAluno1 = randint(0,10)\n",
        "ntAluno2 = randint(0,10)\n",
        "ntAluno3 = randint(0,10)\n",
        "ntAluno4 = randint(0,10)\n",
        "ntAluno5 = randint(0,10)\n",
        "\n",
        "tplNotas = (ntAluno1, ntAluno2, ntAluno3, ntAluno4, ntAluno5)\n",
        "\n",
        "somaMedia = 0 # somar o valor dos itens das tuplas\n",
        "\n",
        "for t in range(len(tplNotas)):\n",
        "    print(f'{tplNomes[t]:_<10}{tplNotas[t]:.2f}')\n",
        "\n",
        "print(f'Média total da sala: {mediaNotas(ntAluno1, ntAluno2, ntAluno3, ntAluno4, ntAluno5)}')"
      ],
      "metadata": {
        "id": "ahRPpUpph7rL"
      },
      "execution_count": null,
      "outputs": []
    },
    {
      "cell_type": "code",
      "source": [
        "#ex 004\n",
        "\n",
        "tupla = ('escada', 'olho', 'mesa', 'parede', 'ouro')\n",
        "for p in tupla:\n",
        "    print(f'\\nna palavra: {p} temos: ', end= \" \")\n",
        "    for letra in p:\n",
        "        if letra.lower() in 'aeiou':\n",
        "            print(f'{letra}', end = \" \")"
      ],
      "metadata": {
        "colab": {
          "base_uri": "https://localhost:8080/"
        },
        "id": "S9IB-1RjroST",
        "outputId": "c96026c6-110e-401b-9ac2-695712055713"
      },
      "execution_count": 14,
      "outputs": [
        {
          "output_type": "stream",
          "name": "stdout",
          "text": [
            "\n",
            "na palavra: escada temos:  e a a \n",
            "na palavra: olho temos:  o o \n",
            "na palavra: mesa temos:  e a \n",
            "na palavra: parede temos:  a e e \n",
            "na palavra: ouro temos:  o u o "
          ]
        }
      ]
    },
    {
      "cell_type": "code",
      "source": [
        "\n"
      ],
      "metadata": {
        "id": "n0t1eWvAvEBs"
      },
      "execution_count": null,
      "outputs": []
    }
  ],
  "metadata": {
    "colab": {
      "collapsed_sections": [],
      "name": "18/02/22 - TUPLAS",
      "provenance": [],
      "include_colab_link": true
    },
    "kernelspec": {
      "display_name": "Python 3",
      "name": "python3"
    }
  },
  "nbformat": 4,
  "nbformat_minor": 0
}